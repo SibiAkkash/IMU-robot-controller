{
 "metadata": {
  "language_info": {
   "codemirror_mode": {
    "name": "ipython",
    "version": 3
   },
   "file_extension": ".py",
   "mimetype": "text/x-python",
   "name": "python",
   "nbconvert_exporter": "python",
   "pygments_lexer": "ipython3",
   "version": 3
  },
  "orig_nbformat": 2
 },
 "nbformat": 4,
 "nbformat_minor": 2,
 "cells": [
  {
   "cell_type": "code",
   "execution_count": null,
   "metadata": {},
   "outputs": [],
   "source": [
    "import numpy as np\n",
    "import scipy\n",
    "import scipy.io as sio\n",
    "import ahrs\n",
    "from ahrs.filters import EKF\n",
    "from ahrs.common.orientation import acc2q\n",
    "import pandas as pd\n"
   ]
  },
  {
   "cell_type": "code",
   "execution_count": null,
   "metadata": {},
   "outputs": [],
   "source": [
    "acc = pd.read_csv('./sensor_data/acc.csv')\n",
    "gyro = pd.read_csv('./sensor_data/ang_vel.csv')\n",
    "mag = pd.read_csv('./sensor_data/mag.csv')\n",
    "\n"
   ]
  },
  {
   "cell_type": "code",
   "execution_count": null,
   "metadata": {},
   "outputs": [],
   "source": [
    "print(acc.shape, gyro.shape, mag.shape)\n",
    "num_samples = min(acc.shape[0], gyro.shape[0], mag.shape[0])\n",
    "num_samples"
   ]
  },
  {
   "cell_type": "code",
   "execution_count": null,
   "metadata": {},
   "outputs": [],
   "source": [
    "# drop timestamp column\n",
    "acc.drop(['Timestamp'], axis=1, inplace=True)\n",
    "gyro.drop(['Timestamp'], axis=1, inplace=True)\n",
    "mag.drop(['Timestamp'], axis=1, inplace=True)\n",
    "\n",
    "acc.drop(acc.index[num_samples:], inplace=True)\n",
    "gyro.drop(gyro.index[num_samples:], inplace=True)\n",
    "mag.drop(mag.index[num_samples:], inplace=True)\n",
    "\n",
    "print(acc.shape, gyro.shape, mag.shape)\n",
    "\n",
    "assert acc.shape == gyro.shape == mag.shape\n"
   ]
  },
  {
   "cell_type": "code",
   "execution_count": null,
   "metadata": {},
   "outputs": [],
   "source": [
    "acc_list = acc.to_numpy()\n",
    "gyro_list = gyro.to_numpy()\n",
    "mag_list = mag.to_numpy()"
   ]
  },
  {
   "cell_type": "code",
   "execution_count": null,
   "metadata": {},
   "outputs": [],
   "source": [
    "ekf = EKF(gyr=gyro_list, acc=acc_list, mag=mag_list)\n",
    "ekf.Q"
   ]
  },
  {
   "cell_type": "code",
   "execution_count": null,
   "metadata": {},
   "outputs": [],
   "source": [
    "# from ahrs.common import to_angles\n",
    "from ahrs.common.quaternion import QuaternionArray\n",
    "Q = QuaternionArray(ekf.Q)\n",
    "Q.to_angles()\n",
    "\n",
    "# array for quaternions\n",
    "# each index represents estimated quaternion for each sensor measurement  \n",
    "Q = np.zeros((num_samples, 4))\n",
    "# set initial position from acceleration alonr\n",
    "Q[0] = acc2q(acc_list[0])\n",
    "for t in range(1, num_samples):\n",
    "\tQ[t] = ekf.update(Q[t-1], gyro_list[t], acc_list[t])"
   ]
  }
 ]
}